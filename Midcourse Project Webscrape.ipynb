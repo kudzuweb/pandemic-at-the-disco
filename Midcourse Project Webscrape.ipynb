{
 "cells": [
  {
   "cell_type": "code",
   "execution_count": 17,
   "metadata": {},
   "outputs": [],
   "source": [
    "# import packages\n",
    "\n",
    "import requests\n",
    "from bs4 import BeautifulSoup\n",
    "import urllib3\n",
    "import re\n",
    "import pandas as pd"
   ]
  },
  {
   "cell_type": "code",
   "execution_count": 3,
   "metadata": {},
   "outputs": [
    {
     "data": {
      "text/plain": [
       "<Response [200]>"
      ]
     },
     "execution_count": 3,
     "metadata": {},
     "output_type": "execute_result"
    }
   ],
   "source": [
    "#request 2019 page & check response\n",
    "\n",
    "URL = 'https://elpee.jp/hot100/year/2019'\n",
    "\n",
    "response = requests.get(URL)\n",
    "\n",
    "response"
   ]
  },
  {
   "cell_type": "code",
   "execution_count": 7,
   "metadata": {},
   "outputs": [],
   "source": [
    "#get week links for 2019\n",
    "\n",
    "def getLinks(URL):\n",
    "    html2019 = requests.get(URL)\n",
    "    soup = BeautifulSoup(html2019.text)\n",
    "    links = []\n",
    "\n",
    "    for link in soup.findAll('a', attrs={'href': re.compile(r'\\/hot100\\/week\\/2019-\\d{2}-\\d{2}')}):\n",
    "        links.append(link.get('href'))\n",
    "\n",
    "    return links"
   ]
  },
  {
   "cell_type": "code",
   "execution_count": 11,
   "metadata": {},
   "outputs": [
    {
     "name": "stdout",
     "output_type": "stream",
     "text": [
      "['/hot100/week/2019-01-05', '/hot100/week/2019-01-12', '/hot100/week/2019-01-19', '/hot100/week/2019-01-26', '/hot100/week/2019-02-02', '/hot100/week/2019-02-09', '/hot100/week/2019-02-16', '/hot100/week/2019-02-23', '/hot100/week/2019-03-02', '/hot100/week/2019-03-09', '/hot100/week/2019-03-16', '/hot100/week/2019-03-23', '/hot100/week/2019-03-30', '/hot100/week/2019-04-06', '/hot100/week/2019-04-13', '/hot100/week/2019-04-20', '/hot100/week/2019-04-27', '/hot100/week/2019-05-04', '/hot100/week/2019-05-11', '/hot100/week/2019-05-18', '/hot100/week/2019-05-25', '/hot100/week/2019-06-01', '/hot100/week/2019-06-08', '/hot100/week/2019-06-15', '/hot100/week/2019-06-22', '/hot100/week/2019-06-29', '/hot100/week/2019-07-06', '/hot100/week/2019-07-13', '/hot100/week/2019-07-20', '/hot100/week/2019-07-27', '/hot100/week/2019-08-03', '/hot100/week/2019-08-10', '/hot100/week/2019-08-17', '/hot100/week/2019-08-24', '/hot100/week/2019-08-31', '/hot100/week/2019-09-07', '/hot100/week/2019-09-14', '/hot100/week/2019-09-21', '/hot100/week/2019-09-28', '/hot100/week/2019-10-05', '/hot100/week/2019-10-12', '/hot100/week/2019-10-19', '/hot100/week/2019-10-26', '/hot100/week/2019-11-02', '/hot100/week/2019-11-09', '/hot100/week/2019-11-16', '/hot100/week/2019-11-23', '/hot100/week/2019-11-30', '/hot100/week/2019-12-07', '/hot100/week/2019-12-14', '/hot100/week/2019-12-21', '/hot100/week/2019-12-28']\n"
     ]
    }
   ],
   "source": [
    "#check links list for correct content(it is correct)\n",
    "links = getLinks(URL)\n",
    "print(links)"
   ]
  },
  {
   "cell_type": "code",
   "execution_count": 33,
   "metadata": {},
   "outputs": [
    {
     "data": {
      "text/plain": [
       "<Response [200]>"
      ]
     },
     "execution_count": 33,
     "metadata": {},
     "output_type": "execute_result"
    }
   ],
   "source": [
    "# test run scraping week 1 2019(URL2) for song title & artist, then adding a new column with the date in each cell\n",
    "\n",
    "# first request page & check response\n",
    "\n",
    "link = links[1]\n",
    "\n",
    "URL2 = 'https://elpee.jp' + link\n",
    "\n",
    "response = requests.get(URL2)\n",
    "\n",
    "response"
   ]
  },
  {
   "cell_type": "code",
   "execution_count": 14,
   "metadata": {},
   "outputs": [],
   "source": [
    "# grab song title & artist into list\n",
    "def getLinks2(URL2):\n",
    "    htmlweek12019 = requests.get(URL2)\n",
    "    soup = BeautifulSoup(htmlweek12019.text)\n",
    "    links = []\n",
    "\n",
    "    for link in soup.findAll('a', attrs={'href': re.compile(r'\\/single\\/.*')}):\n",
    "        links.append(link.get('href'))\n",
    "\n",
    "    return links"
   ]
  },
  {
   "cell_type": "code",
   "execution_count": 35,
   "metadata": {},
   "outputs": [
    {
     "name": "stdout",
     "output_type": "stream",
     "text": [
      "['/single/Without%20Me/Halsey/', '/single/Thank%20U%2C%20Next/Ariana%20Grande/', '/single/Sunflower%20%28Spider-Man%3A%20Into%20The%20Spider-Verse%29/Post%20Malone%20%26%20Swae%20Lee/', '/single/Sicko%20Mode/Travis%20Scott/', '/single/High%20Hopes/Panic%21%20At%20The%20Disco/', '/single/Happier/Marshmello%20%26%20Bastille/', '/single/Girls%20Like%20You/Maroon%205%20Featuring%20Cardi%20B/', '/single/Drip%20Too%20Hard/Lil%20Baby%20%26%20Gunna/', '/single/ZEZE/Kodak%20Black%20Featuring%20Travis%20Scott%20%26%20Offset/', '/single/Better%20Now/Post%20Malone/', '/single/Eastside/Benny%20Blanco%2C%20Halsey%20%26%20Khalid/', '/single/Wake%20Up%20In%20The%20Sky/Gucci%20Mane%20x%20Bruno%20Mars%20x%20Kodak%20Black/', '/single/Wow./Post%20Malone/', '/single/Youngblood/5%20Seconds%20Of%20Summer/', '/single/Mo%20Bamba/Sheck%20Wes/', '/single/Breathin/Ariana%20Grande/', '/single/Money/Cardi%20B/', '/single/Lucid%20Dreams/Juice%20WRLD/', '/single/Taki%20Taki/DJ%20Snake%20Featuring%20Selena%20Gomez%2C%20Ozuna%20%26%20Cardi%20B/', '/single/MIA/Bad%20Bunny%20Featuring%20Drake/', '/single/Going%20Bad/Meek%20Mill%20Featuring%20Drake/', '/single/Leave%20Me%20Alone/Flipp%20Dinero/', '/single/Trip/Ella%20Mai/', '/single/Speechless/Dan%20%2B%20Shay/', '/single/Natural/Imagine%20Dragons/', '/single/I%20Like%20It/Cardi%20B%2C%20Bad%20Bunny%20%26%20J%20Balvin/', '/single/Love%20Lies/Khalid%20%26%20Normani/', '/single/Beautiful/Bazzi%20Featuring%20Camila%20Cabello/', '/single/Shallow/Lady%20Gaga%20%26%20Bradley%20Cooper/', '/single/Better/Khalid/', '/single/She%20Got%20The%20Best%20Of%20Me/Luke%20Combs/', '/single/Baby%20Shark/Pinkfong/', '/single/Close%20To%20Me/Ellie%20Goulding%20X%20Diplo%20Featuring%20Swae%20Lee/', '/single/You%20Say/Lauren%20Daigle/', '/single/Uproar/Lil%20Wayne/', '/single/A%20Lot/21%20Savage/', '/single/Best%20Shot/Jimmie%20Allen/', '/single/Swervin/A%20Boogie%20Wit%20da%20Hoodie%20Featuring%206ix9ine/', '/single/Drunk%20Me/Mitchell%20Tenpenny/', '/single/Be%20Alright/Dean%20Lewis/', '/single/Sweet%20But%20Psycho/Ava%20Max/', '/single/Sixteen/Thomas%20Rhett/', '/single/Talk%20To%20Me/Tory%20Lanez%20%26%20Rich%20The%20Kid/', '/single/Backin%27%20It%20Up/Pardison%20Fontaine%20Featuring%20Cardi%20B/', '/single/Burning%20Man/Dierks%20Bentley%20Featuring%20Brothers%20Osborne/', '/single/Dangerous/Meek%20Mill%20Featuring%20Jeremih%20%26%20PnB%20Rock/', '/single/Good%20Girl/Dustin%20Lynch/', '/single/Beautiful%20Crazy/Luke%20Combs/', '/single/Nothing%20Breaks%20Like%20A%20Heart/Mark%20Ronson%20Featuring%20Miley%20Cyrus/', '/single/This%20Feeling/The%20Chainsmokers%20Featuring%20Kelsea%20Ballerini/', '/single/Consequences/Camila%20Cabello/', '/single/Girl%20Like%20You/Jason%20Aldean/', '/single/Last%20Shot/Kip%20Moore/', '/single/Look%20Back%20At%20It/A%20Boogie%20Wit%20da%20Hoodie/', '/single/Arms%20Around%20You/XXXTENTACION%20x%20Lil%20Pump%20Featuring%20Maluma%20%26%20Swae%20Lee/', '/single/Armed%20and%20Dangerous/Juice%20WRLD/', '/single/This%20Is%20It/Scotty%20McCreery/', '/single/Calling%20My%20Spirit/Kodak%20Black/', '/single/You/Jacquees/', '/single/No%20Stylist/French%20Montana%20Featuring%20Drake/', '/single/Startender/A%20Boogie%20Wit%20da%20Hoodie%20Featuring%20Offset%20%26%20Tyga/', '/single/Electricity/Silk%20City%20x%20Dua%20Lipa/', '/single/Imagine/Ariana%20Grande/', '/single/Ella%20Quiere%20Beber/Anuel%20AA%20%26%20Romeo%20Santos/', '/single/Can%27t%20Leave%20Without%20It/21%20Savage/', '/single/Envy%20Me/Calboy/', '/single/Smile%20%28Living%20My%20Best%20Life%29/Lil%27%20Duval%20Featuring%20Snoop%20Dogg%20%26%20Ball%20Greezy/', '/single/When%20The%20Party%27s%20Over/Billie%20Eilish/', '/single/Millionaire/Chris%20Stapleton/', '/single/BAD%21/XXXTENTACION/', '/single/Lost%20In%20Japan/Shawn%20Mendes%20X%20Zedd/', '/single/Pure%20Cocaine/Lil%20Baby/', '/single/Lovely/Billie%20Eilish%20%26%20Khalid/', '/single/Fine%20China/Future%20%26%20Juice%20WRLD/', '/single/Take%20It%20From%20Me/Jordan%20Davis/', '/single/What%20Makes%20You%20Country/Luke%20Bryan/', '/single/Yosemite/Travis%20Scott/', '/single/Monster/21%20Savage/', '/single/Blue%20Tacoma/Russell%20Dickerson/', '/single/Down%20To%20The%20Honkytonk/Jake%20Owen/', '/single/Close%20Friends/Lil%20Baby/', '/single/Love%20Someone/Lukas%20Graham/', '/single/Love%20Wins/Carrie%20Underwood/', '/single/KIKA/6ix9ine%20Featuring%20Tory%20Lanez/', '/single/Nuketown/Ski%20Mask%20The%20Slump%20God%20Featuring%20Juice%20WRLD/', '/single/Ruin%20My%20Life/Zara%20Larsson/', '/single/Body/Loud%20Luxury%20Featuring%20Brando/', '/single/Dip/Tyga%20%26%20Nicki%20Minaj/', '/single/Good%20Form/Nicki%20Minaj%20Featuring%20Lil%20Wayne/', '/single/Demons%20and%20Angels/A%20Boogie%20Wit%20da%20Hoodie%20Featuring%20Juice%20WRLD/', '/single/Here%20Tonight/Brett%20Young/', '/single/Burn%20Out/Midland/', '/single/Solo%20de%20Mi/Bad%20Bunny/', '/single/Lucky%20You/Eminem%20Featuring%20Joyner%20Lucas/', '/single/Roses/Benny%20Blanco%20%26%20Juice%20WRLD%20Featuring%20Brendon%20Urie/', '/single/whoa%20%28mind%20in%20awe%29/XXXTENTACION/', '/single/All%20My%20Friends/21%20Savage/', '/single/Make%20It%20Sweet/Old%20Dominion/', '/single/Ocean%20Eyes/Billie%20Eilish/', '/single/idontwannabeyouanymore/Billie%20Eilish/']\n"
     ]
    }
   ],
   "source": [
    "#check links2 list for correct content(it is correct)\n",
    "links2 = getLinks2(URL2)\n",
    "\n",
    "print(links2)"
   ]
  },
  {
   "cell_type": "code",
   "execution_count": 24,
   "metadata": {},
   "outputs": [],
   "source": [
    "def labelmaker(links):\n",
    "    match = re.search(r'\\/hot100\\/week\\/(.*)', links)\n",
    "    if match:\n",
    "        return match.group(1)\n",
    "    else:\n",
    "        return None"
   ]
  },
  {
   "cell_type": "code",
   "execution_count": 36,
   "metadata": {},
   "outputs": [
    {
     "data": {
      "text/plain": [
       "'2019-01-12'"
      ]
     },
     "execution_count": 36,
     "metadata": {},
     "output_type": "execute_result"
    }
   ],
   "source": [
    "test = labelmaker(URL2)\n",
    "test"
   ]
  },
  {
   "cell_type": "code",
   "execution_count": 37,
   "metadata": {},
   "outputs": [
    {
     "data": {
      "text/html": [
       "<div>\n",
       "<style scoped>\n",
       "    .dataframe tbody tr th:only-of-type {\n",
       "        vertical-align: middle;\n",
       "    }\n",
       "\n",
       "    .dataframe tbody tr th {\n",
       "        vertical-align: top;\n",
       "    }\n",
       "\n",
       "    .dataframe thead th {\n",
       "        text-align: right;\n",
       "    }\n",
       "</style>\n",
       "<table border=\"1\" class=\"dataframe\">\n",
       "  <thead>\n",
       "    <tr style=\"text-align: right;\">\n",
       "      <th></th>\n",
       "      <th>song</th>\n",
       "      <th>date</th>\n",
       "    </tr>\n",
       "  </thead>\n",
       "  <tbody>\n",
       "    <tr>\n",
       "      <th>0</th>\n",
       "      <td>/single/Without%20Me/Halsey/</td>\n",
       "      <td>2019-01-12</td>\n",
       "    </tr>\n",
       "    <tr>\n",
       "      <th>1</th>\n",
       "      <td>/single/Thank%20U%2C%20Next/Ariana%20Grande/</td>\n",
       "      <td>2019-01-12</td>\n",
       "    </tr>\n",
       "    <tr>\n",
       "      <th>2</th>\n",
       "      <td>/single/Sunflower%20%28Spider-Man%3A%20Into%20...</td>\n",
       "      <td>2019-01-12</td>\n",
       "    </tr>\n",
       "    <tr>\n",
       "      <th>3</th>\n",
       "      <td>/single/Sicko%20Mode/Travis%20Scott/</td>\n",
       "      <td>2019-01-12</td>\n",
       "    </tr>\n",
       "    <tr>\n",
       "      <th>4</th>\n",
       "      <td>/single/High%20Hopes/Panic%21%20At%20The%20Disco/</td>\n",
       "      <td>2019-01-12</td>\n",
       "    </tr>\n",
       "    <tr>\n",
       "      <th>...</th>\n",
       "      <td>...</td>\n",
       "      <td>...</td>\n",
       "    </tr>\n",
       "    <tr>\n",
       "      <th>95</th>\n",
       "      <td>/single/whoa%20%28mind%20in%20awe%29/XXXTENTAC...</td>\n",
       "      <td>2019-01-12</td>\n",
       "    </tr>\n",
       "    <tr>\n",
       "      <th>96</th>\n",
       "      <td>/single/All%20My%20Friends/21%20Savage/</td>\n",
       "      <td>2019-01-12</td>\n",
       "    </tr>\n",
       "    <tr>\n",
       "      <th>97</th>\n",
       "      <td>/single/Make%20It%20Sweet/Old%20Dominion/</td>\n",
       "      <td>2019-01-12</td>\n",
       "    </tr>\n",
       "    <tr>\n",
       "      <th>98</th>\n",
       "      <td>/single/Ocean%20Eyes/Billie%20Eilish/</td>\n",
       "      <td>2019-01-12</td>\n",
       "    </tr>\n",
       "    <tr>\n",
       "      <th>99</th>\n",
       "      <td>/single/idontwannabeyouanymore/Billie%20Eilish/</td>\n",
       "      <td>2019-01-12</td>\n",
       "    </tr>\n",
       "  </tbody>\n",
       "</table>\n",
       "<p>100 rows × 2 columns</p>\n",
       "</div>"
      ],
      "text/plain": [
       "                                                 song        date\n",
       "0                        /single/Without%20Me/Halsey/  2019-01-12\n",
       "1        /single/Thank%20U%2C%20Next/Ariana%20Grande/  2019-01-12\n",
       "2   /single/Sunflower%20%28Spider-Man%3A%20Into%20...  2019-01-12\n",
       "3                /single/Sicko%20Mode/Travis%20Scott/  2019-01-12\n",
       "4   /single/High%20Hopes/Panic%21%20At%20The%20Disco/  2019-01-12\n",
       "..                                                ...         ...\n",
       "95  /single/whoa%20%28mind%20in%20awe%29/XXXTENTAC...  2019-01-12\n",
       "96            /single/All%20My%20Friends/21%20Savage/  2019-01-12\n",
       "97          /single/Make%20It%20Sweet/Old%20Dominion/  2019-01-12\n",
       "98              /single/Ocean%20Eyes/Billie%20Eilish/  2019-01-12\n",
       "99    /single/idontwannabeyouanymore/Billie%20Eilish/  2019-01-12\n",
       "\n",
       "[100 rows x 2 columns]"
      ]
     },
     "execution_count": 37,
     "metadata": {},
     "output_type": "execute_result"
    }
   ],
   "source": [
    "week1 = pd.DataFrame({'song': links2, 'date': test})\n",
    "week1"
   ]
  }
 ],
 "metadata": {
  "kernelspec": {
   "display_name": "base",
   "language": "python",
   "name": "python3"
  },
  "language_info": {
   "codemirror_mode": {
    "name": "ipython",
    "version": 3
   },
   "file_extension": ".py",
   "mimetype": "text/x-python",
   "name": "python",
   "nbconvert_exporter": "python",
   "pygments_lexer": "ipython3",
   "version": "3.11.4"
  }
 },
 "nbformat": 4,
 "nbformat_minor": 2
}
