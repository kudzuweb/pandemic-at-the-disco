{
 "cells": [
  {
   "cell_type": "code",
   "execution_count": 2,
   "metadata": {},
   "outputs": [],
   "source": [
    "client_id = 'cb091220adca45a0ad6e7260ceb53e8d'\n",
    "client_secret = 'ff0053cbd1b841cd96bd858aca617158'"
   ]
  },
  {
   "cell_type": "code",
   "execution_count": 3,
   "metadata": {},
   "outputs": [],
   "source": [
    "import base64\n",
    "import six\n",
    "import requests    "
   ]
  },
  {
   "cell_type": "code",
   "execution_count": 4,
   "metadata": {},
   "outputs": [],
   "source": [
    "#creates query header(spotify auth token)\n",
    "\n",
    "def _make_authorization_headers(client_id, client_secret):\n",
    "    auth_header = base64.b64encode(\n",
    "        six.text_type(client_id + \":\" + client_secret).encode(\"ascii\")\n",
    "    )\n",
    "    return {\"Authorization\": \"Basic %s\" % auth_header.decode(\"ascii\")}\n",
    "\n",
    "headers = _make_authorization_headers(client_id, client_secret)\n",
    "payload = {\"grant_type\": \"client_credentials\"}\n",
    "OAUTH_TOKEN_URL = \"https://accounts.spotify.com/api/token\"\n",
    "response = requests.post(\n",
    "    OAUTH_TOKEN_URL,\n",
    "    data=payload,\n",
    "    headers=headers\n",
    ")\n",
    "\n",
    "def make_bearer_headers(access_token):\n",
    "    return {\"Authorization\": \"Bearer %s\" % access_token}\n",
    "\n",
    "query_header = make_bearer_headers(response.json()['access_token'])\n",
    "query_header"
   ]
  },
  {
   "cell_type": "code",
   "execution_count": 24,
   "metadata": {},
   "outputs": [],
   "source": [
    "# function to retrieve URI given the track and artist name\n",
    "def getURI(track, artist):\n",
    "    SEARCH_URL = \"https://api.spotify.com/v1/search\"\n",
    "    params = {\n",
    "        'q': f\"track:{track} artist:{artist}\",\n",
    "        'type': \"track\"\n",
    "    }\n",
    "    response = requests.get(SEARCH_URL, params = params, headers = query_header)\n",
    "    testresult = response.json()['tracks']['items']\n",
    "    URI= response.json()['tracks']['items'][0]['uri']\n",
    "    return URI\n"
   ]
  },
  {
   "cell_type": "code",
   "execution_count": 25,
   "metadata": {},
   "outputs": [
    {
     "data": {
      "text/plain": [
       "'spotify:track:6FZDfxM3a3UCqtzo5pxSLZ'"
      ]
     },
     "execution_count": 25,
     "metadata": {},
     "output_type": "execute_result"
    }
   ],
   "source": [
    "#testing getURI function\n",
    "track = 'Without Me'\n",
    "artist = 'Halsey'\n",
    "\n",
    "getURI(track, artist)"
   ]
  },
  {
   "cell_type": "code",
   "execution_count": 21,
   "metadata": {},
   "outputs": [
    {
     "data": {
      "text/plain": [
       "'spotify:track:3e9HZxeyfWwjeyPAMmWSSQ'"
      ]
     },
     "execution_count": 21,
     "metadata": {},
     "output_type": "execute_result"
    }
   ],
   "source": [
    "# copy csv, de-duplicate tracks, clean track/artist titles by replacing weird stuff with spaces, split into two columns, drop \"single\" column, apply getURI to each row"
   ]
  }
 ],
 "metadata": {
  "kernelspec": {
   "display_name": "base",
   "language": "python",
   "name": "python3"
  },
  "language_info": {
   "codemirror_mode": {
    "name": "ipython",
    "version": 3
   },
   "file_extension": ".py",
   "mimetype": "text/x-python",
   "name": "python",
   "nbconvert_exporter": "python",
   "pygments_lexer": "ipython3",
   "version": "3.11.4"
  }
 },
 "nbformat": 4,
 "nbformat_minor": 2
}
