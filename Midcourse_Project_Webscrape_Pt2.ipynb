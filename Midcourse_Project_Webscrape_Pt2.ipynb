{
 "cells": [
  {
   "cell_type": "code",
   "execution_count": 1,
   "metadata": {},
   "outputs": [],
   "source": [
    "# import packages\n",
    "\n",
    "import requests\n",
    "from bs4 import BeautifulSoup\n",
    "import urllib3\n",
    "import re\n",
    "import pandas as pd"
   ]
  },
  {
   "cell_type": "code",
   "execution_count": 3,
   "metadata": {},
   "outputs": [],
   "source": [
    "#function to pull list of links\n",
    "def getLinks(yearpage):\n",
    "    html2019 = requests.get(yearpage)\n",
    "    soup = BeautifulSoup(html2019.text)\n",
    "    links = []\n",
    "\n",
    "    for link in soup.findAll('a', attrs={'href': re.compile(r'\\/hot100\\/week\\/2019-\\d{2}-\\d{2}')}):\n",
    "        links.append(link.get('href'))\n",
    "\n",
    "    return links\n",
    "\n",
    "#function to retrieve list of songs\n",
    "def getSongs(weekURL):\n",
    "    weekhtml = requests.get(weekURL)\n",
    "    soup = BeautifulSoup(weekhtml.text)\n",
    "    links = []\n",
    "    \n",
    "    for link in soup.findAll('a', attrs={'href': re.compile(r'\\/single\\/.*')}):\n",
    "        links.append(link.get('href'))\n",
    "\n",
    "    return links\n",
    "\n",
    "#function to create date labels\n",
    "def labelmaker(links):\n",
    "    match = re.search(r'\\/hot100\\/week\\/(.*)', links)\n",
    "    if match:\n",
    "        return match.group(1)\n",
    "    else:\n",
    "        return None"
   ]
  },
  {
   "cell_type": "code",
   "execution_count": 4,
   "metadata": {},
   "outputs": [
    {
     "name": "stdout",
     "output_type": "stream",
     "text": [
      "['/hot100/week/2019-01-05', '/hot100/week/2019-01-12', '/hot100/week/2019-01-19', '/hot100/week/2019-01-26', '/hot100/week/2019-02-02', '/hot100/week/2019-02-09', '/hot100/week/2019-02-16', '/hot100/week/2019-02-23', '/hot100/week/2019-03-02', '/hot100/week/2019-03-09', '/hot100/week/2019-03-16', '/hot100/week/2019-03-23', '/hot100/week/2019-03-30', '/hot100/week/2019-04-06', '/hot100/week/2019-04-13', '/hot100/week/2019-04-20', '/hot100/week/2019-04-27', '/hot100/week/2019-05-04', '/hot100/week/2019-05-11', '/hot100/week/2019-05-18', '/hot100/week/2019-05-25', '/hot100/week/2019-06-01', '/hot100/week/2019-06-08', '/hot100/week/2019-06-15', '/hot100/week/2019-06-22', '/hot100/week/2019-06-29', '/hot100/week/2019-07-06', '/hot100/week/2019-07-13', '/hot100/week/2019-07-20', '/hot100/week/2019-07-27', '/hot100/week/2019-08-03', '/hot100/week/2019-08-10', '/hot100/week/2019-08-17', '/hot100/week/2019-08-24', '/hot100/week/2019-08-31', '/hot100/week/2019-09-07', '/hot100/week/2019-09-14', '/hot100/week/2019-09-21', '/hot100/week/2019-09-28', '/hot100/week/2019-10-05', '/hot100/week/2019-10-12', '/hot100/week/2019-10-19', '/hot100/week/2019-10-26', '/hot100/week/2019-11-02', '/hot100/week/2019-11-09', '/hot100/week/2019-11-16', '/hot100/week/2019-11-23', '/hot100/week/2019-11-30', '/hot100/week/2019-12-07', '/hot100/week/2019-12-14', '/hot100/week/2019-12-21', '/hot100/week/2019-12-28']\n"
     ]
    }
   ],
   "source": [
    "#get week links for 2019\n",
    "\n",
    "yearpage = 'https://elpee.jp/hot100/year/2019'\n",
    "links = getLinks(yearpage)\n",
    "print(links)"
   ]
  },
  {
   "cell_type": "code",
   "execution_count": 8,
   "metadata": {},
   "outputs": [],
   "source": [
    "# 1) generate link to week page, 2) request page, 3) grab html 4) extract songs 5) extract date from URL \n",
    "# 6) create dataframe 7) add column with the date from the URL\n",
    "\n",
    "weekstring = links[0]\n",
    "def dfCompile(weekstring):\n",
    "    weekURL = 'https://elpee.jp' + weekstring\n",
    "\n",
    "    songs = getSongs(weekURL)\n",
    "\n",
    "    dates = labelmaker(weekURL)\n",
    "    week1 = pd.DataFrame({'song': songs, 'date': dates})\n",
    "    return week1\n",
    "    "
   ]
  },
  {
   "cell_type": "code",
   "execution_count": 10,
   "metadata": {},
   "outputs": [
    {
     "name": "stdout",
     "output_type": "stream",
     "text": [
      "                                                 song        date\n",
      "0        /single/Thank%20U%2C%20Next/Ariana%20Grande/  2019-01-05\n",
      "1                        /single/Without%20Me/Halsey/  2019-01-05\n",
      "2   /single/All%20I%20Want%20For%20Christmas%20Is%...  2019-01-05\n",
      "3                /single/Sicko%20Mode/Travis%20Scott/  2019-01-05\n",
      "4   /single/Sunflower%20%28Spider-Man%3A%20Into%20...  2019-01-05\n",
      "..                                                ...         ...\n",
      "95                   /single/Last%20Shot/Kip%20Moore/  2019-01-05\n",
      "96  /single/Fine%20China/Future%20%26%20Juice%20WRLD/  2019-01-05\n",
      "97                          /single/Envy%20Me/Calboy/  2019-01-05\n",
      "98  /single/Lost%20In%20Japan/Shawn%20Mendes%20X%2...  2019-01-05\n",
      "99          /single/This%20Is%20It/Scotty%20McCreery/  2019-01-05\n",
      "\n",
      "[100 rows x 2 columns]\n"
     ]
    }
   ],
   "source": [
    "test = dfCompile(weekstring)\n",
    "print(test)"
   ]
  }
 ],
 "metadata": {
  "kernelspec": {
   "display_name": "base",
   "language": "python",
   "name": "python3"
  },
  "language_info": {
   "codemirror_mode": {
    "name": "ipython",
    "version": 3
   },
   "file_extension": ".py",
   "mimetype": "text/x-python",
   "name": "python",
   "nbconvert_exporter": "python",
   "pygments_lexer": "ipython3",
   "version": "3.11.4"
  }
 },
 "nbformat": 4,
 "nbformat_minor": 2
}
